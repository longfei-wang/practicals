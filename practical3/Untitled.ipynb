{
 "cells": [
  {
   "cell_type": "code",
   "execution_count": 1,
   "metadata": {
    "collapsed": true
   },
   "outputs": [],
   "source": [
    "import musicbrainzngs\n",
    "import pandas as pd\n",
    "import numpy as np"
   ]
  },
  {
   "cell_type": "code",
   "execution_count": 3,
   "metadata": {
    "collapsed": true
   },
   "outputs": [],
   "source": [
    "musicbrainzngs.set_useragent(\"CS181kagglecontest\", \"1.0\", \"https://www.kaggle.com/longfeiwang/\")"
   ]
  },
  {
   "cell_type": "code",
   "execution_count": 3,
   "metadata": {
    "collapsed": false
   },
   "outputs": [],
   "source": [
    "artist_id = \"69c4cc43-8163-41c5-ac81-30946d27bb69\"\n",
    "result = musicbrainzngs.get_artist_by_id(artist_id,includes =[\"tags\",\"annotation\"] )"
   ]
  },
  {
   "cell_type": "code",
   "execution_count": 10,
   "metadata": {
    "collapsed": false
   },
   "outputs": [
    {
     "data": {
      "text/plain": [
       "{'area': {'id': '489ce91b-6658-3307-9877-795b68554c98',\n",
       "  'iso-3166-1-code-list': ['US'],\n",
       "  'name': 'United States',\n",
       "  'sort-name': 'United States'},\n",
       " 'country': 'US',\n",
       " 'id': '69c4cc43-8163-41c5-ac81-30946d27bb69',\n",
       " 'life-span': {'begin': '2000-03'},\n",
       " 'name': 'CunninLynguists',\n",
       " 'sort-name': 'CunninLynguists',\n",
       " 'tag-list': [{'count': '1', 'name': 'american'},\n",
       "  {'count': '1', 'name': 'conscious hip hop'},\n",
       "  {'count': '1', 'name': 'hip hop'},\n",
       "  {'count': '1', 'name': 'hip-hop'},\n",
       "  {'count': '1', 'name': 'political hip hop'},\n",
       "  {'count': '1', 'name': 'rap'},\n",
       "  {'count': '1', 'name': 'southern hip hop'}],\n",
       " 'type': 'Group'}"
      ]
     },
     "execution_count": 10,
     "metadata": {},
     "output_type": "execute_result"
    }
   ],
   "source": [
    "result['artist']"
   ]
  },
  {
   "cell_type": "code",
   "execution_count": 4,
   "metadata": {
    "collapsed": false
   },
   "outputs": [],
   "source": [
    "musicbrainzngs.get_artist_by_id?"
   ]
  },
  {
   "cell_type": "code",
   "execution_count": 3,
   "metadata": {
    "collapsed": false
   },
   "outputs": [],
   "source": [
    "ats = pd.read_csv('artists.csv')"
   ]
  },
  {
   "cell_type": "code",
   "execution_count": 18,
   "metadata": {
    "collapsed": true
   },
   "outputs": [],
   "source": []
  },
  {
   "cell_type": "code",
   "execution_count": 4,
   "metadata": {
    "collapsed": false
   },
   "outputs": [
    {
     "name": "stdout",
     "output_type": "stream",
     "text": [
      "f1a95c6b-fb2a-41a6-bfcb-2453fee2a38c\n",
      "0f3515b0-75c9-46c9-b26c-4cd05d26eae7\n",
      "9bf79f68-c064-44a1-8c2c-5764f1d7c016\n",
      "4b179fe2-dfa5-40b1-b6db-b56dbc3b5f09\n",
      "10b7b68c-390d-469a-915b-40bac704f288\n",
      "5aca3051-afa2-4f5c-9974-cc9418482a58\n",
      "b5da400c-9a62-4686-b6fe-91518e57ce5d\n",
      "ae681605-2801-4120-9a48-e18752042306\n",
      "8f3f7fec-cabf-4366-9c31-06f204b402f5\n",
      "64b86e99-b6ec-4fb1-a5cd-f95482d3b57a\n",
      "5385c403-1c49-4f2f-9b98-7085b5c84371\n"
     ]
    }
   ],
   "source": [
    "import time \n",
    "\n",
    "artist_table = dict()\n",
    "fail = list()\n",
    "\n",
    "for i in ats.itertuples():\n",
    "    artist_id = i[1]\n",
    "    try:\n",
    "        result = musicbrainzngs.get_artist_by_id(artist_id,includes =[\"tags\",\"annotation\"])\n",
    "        time.sleep(1)\n",
    "        artist_table[artist_id] = result['artist']\n",
    "    except:\n",
    "        fail.append(i[1])\n",
    "        print i[1]\n"
   ]
  },
  {
   "cell_type": "code",
   "execution_count": 7,
   "metadata": {
    "collapsed": false
   },
   "outputs": [
    {
     "data": {
      "text/plain": [
       "1989"
      ]
     },
     "execution_count": 7,
     "metadata": {},
     "output_type": "execute_result"
    }
   ],
   "source": [
    "len(artist_table.keys())"
   ]
  },
  {
   "cell_type": "code",
   "execution_count": 8,
   "metadata": {
    "collapsed": true
   },
   "outputs": [],
   "source": [
    "np.save('table1',artist_table)"
   ]
  },
  {
   "cell_type": "code",
   "execution_count": 9,
   "metadata": {
    "collapsed": true
   },
   "outputs": [],
   "source": [
    "np.save('fail1',fail)"
   ]
  },
  {
   "cell_type": "code",
   "execution_count": 10,
   "metadata": {
    "collapsed": false
   },
   "outputs": [],
   "source": [
    "artist_table = np.load(\"table1.npy\")"
   ]
  },
  {
   "cell_type": "code",
   "execution_count": 11,
   "metadata": {
    "collapsed": true
   },
   "outputs": [],
   "source": [
    "fail = np.load(\"fail1.npy\")"
   ]
  },
  {
   "cell_type": "code",
   "execution_count": 7,
   "metadata": {
    "collapsed": false
   },
   "outputs": [
    {
     "name": "stdout",
     "output_type": "stream",
     "text": [
      "f1a95c6b-fb2a-41a6-bfcb-2453fee2a38c\n",
      "0f3515b0-75c9-46c9-b26c-4cd05d26eae7\n",
      "9bf79f68-c064-44a1-8c2c-5764f1d7c016\n",
      "4b179fe2-dfa5-40b1-b6db-b56dbc3b5f09\n",
      "10b7b68c-390d-469a-915b-40bac704f288\n",
      "5aca3051-afa2-4f5c-9974-cc9418482a58\n",
      "b5da400c-9a62-4686-b6fe-91518e57ce5d\n",
      "ae681605-2801-4120-9a48-e18752042306\n",
      "8f3f7fec-cabf-4366-9c31-06f204b402f5\n",
      "64b86e99-b6ec-4fb1-a5cd-f95482d3b57a\n",
      "5385c403-1c49-4f2f-9b98-7085b5c84371\n"
     ]
    }
   ],
   "source": [
    "import time\n",
    "for i in fail:\n",
    "    artist_id = i\n",
    "    try:\n",
    "        result = musicbrainzngs.get_artist_by_id(artist_id,includes =[\"tags\",\"annotation\"])\n",
    "        time.sleep(1)\n",
    "        artist_table[artist_id] = result['artist']\n",
    "    except:\n",
    "        print i"
   ]
  },
  {
   "cell_type": "code",
   "execution_count": 12,
   "metadata": {
    "collapsed": false
   },
   "outputs": [],
   "source": [
    "artist_info = artist_table.item()"
   ]
  },
  {
   "cell_type": "code",
   "execution_count": 20,
   "metadata": {
    "collapsed": false
   },
   "outputs": [
    {
     "data": {
      "text/plain": [
       "'69c4cc43-8163-41c5-ac81-30946d27bb69'"
      ]
     },
     "execution_count": 20,
     "metadata": {},
     "output_type": "execute_result"
    }
   ],
   "source": [
    "artist_info.keys()[1]"
   ]
  },
  {
   "cell_type": "code",
   "execution_count": 8,
   "metadata": {
    "collapsed": false
   },
   "outputs": [
    {
     "data": {
      "text/plain": [
       "{'area': {'id': '489ce91b-6658-3307-9877-795b68554c98',\n",
       "  'iso-3166-1-code-list': ['US'],\n",
       "  'name': 'United States',\n",
       "  'sort-name': 'United States'},\n",
       " 'country': 'US',\n",
       " 'id': '69c4cc43-8163-41c5-ac81-30946d27bb69',\n",
       " 'life-span': {'begin': '2000-03'},\n",
       " 'name': 'CunninLynguists',\n",
       " 'sort-name': 'CunninLynguists',\n",
       " 'tag-list': [{'count': '1', 'name': 'american'},\n",
       "  {'count': '1', 'name': 'conscious hip hop'},\n",
       "  {'count': '1', 'name': 'hip hop'},\n",
       "  {'count': '1', 'name': 'hip-hop'},\n",
       "  {'count': '1', 'name': 'political hip hop'},\n",
       "  {'count': '1', 'name': 'rap'},\n",
       "  {'count': '1', 'name': 'southern hip hop'}],\n",
       " 'type': 'Group'}"
      ]
     },
     "execution_count": 8,
     "metadata": {},
     "output_type": "execute_result"
    }
   ],
   "source": [
    "artist_info['69c4cc43-8163-41c5-ac81-30946d27bb69']"
   ]
  },
  {
   "cell_type": "code",
   "execution_count": 103,
   "metadata": {
    "collapsed": false
   },
   "outputs": [
    {
     "name": "stdout",
     "output_type": "stream",
     "text": [
      "None\n"
     ]
    }
   ],
   "source": [
    "class NoneDict(dict):\n",
    "    def __getitem__(self, key):\n",
    "        return dict.get(self, key)\n",
    "    \n",
    "    \n",
    "test = NoneDict(artist_info['69c4cc43-8163-41c5-ac81-30946d27bb69'])\n",
    "print test['asdfsaf']"
   ]
  },
  {
   "cell_type": "code",
   "execution_count": 16,
   "metadata": {
    "collapsed": false
   },
   "outputs": [
    {
     "name": "stdout",
     "output_type": "stream",
     "text": [
      "{'ended': 'true', 'end': '2002'}\n"
     ]
    }
   ],
   "source": [
    "tagsd = dict()\n",
    "area = list()\n",
    "country = list()\n",
    "keys = list()\n",
    "types = list()\n",
    "begin_areas = list()\n",
    "end_areas = list()\n",
    "gender = list()\n",
    "\n",
    "for k,v in artist_info.iteritems():\n",
    "    \n",
    "    if 'life-span' in v.keys():\n",
    "        if 'begin' not in v['life-span'].keys():\n",
    "            print v['life-span']\n",
    "    try:\n",
    "        \n",
    "        if v['gender'] not in gender:\n",
    "            gender.append(v['gender'])\n",
    "    except:\n",
    "        pass\n",
    "    \n",
    "    try:\n",
    "        if v['end-area']['name'] not in end_areas:\n",
    "            end_areas.append(v['end-area']['name'])\n",
    "    except:\n",
    "        pass\n",
    "    \n",
    "    try:\n",
    "        if v['begin-area']['name'] not in begin_areas:\n",
    "            begin_areas.append(v['begin-area']['name'])\n",
    "    except:\n",
    "        pass\n",
    "    \n",
    "    try:\n",
    "        if v['type'] not in types:\n",
    "            types.append(v['type'])\n",
    "    except:\n",
    "        pass\n",
    "        \n",
    "    keys += v.keys()\n",
    "    \n",
    "    try:\n",
    "        if v['area']['name'] not in area:\n",
    "            area.append(v['area']['name'])\n",
    "        if v['country'] not in country:\n",
    "            country.append(v['country'])\n",
    "    except:\n",
    "        pass\n",
    "    \n",
    "#     if 'gender' in v.keys():\n",
    "#         print v['gender'],v['type']\n",
    "    if 'tag-list' in v.keys():\n",
    "        for i in v['tag-list']:\n",
    "            if i['name'] not in tagsd.keys():\n",
    "                tagsd[i['name']] = 0\n",
    "            else:\n",
    "                tagsd[i['name']] += 1\n"
   ]
  },
  {
   "cell_type": "code",
   "execution_count": 17,
   "metadata": {
    "collapsed": false
   },
   "outputs": [],
   "source": [
    "tags = list()\n",
    "for k,v in tagsd.iteritems():\n",
    "    if v > 5:\n",
    "        tags.append(k)"
   ]
  },
  {
   "cell_type": "code",
   "execution_count": 19,
   "metadata": {
    "collapsed": false
   },
   "outputs": [
    {
     "data": {
      "text/plain": [
       "268"
      ]
     },
     "execution_count": 19,
     "metadata": {},
     "output_type": "execute_result"
    }
   ],
   "source": [
    "len(tags)"
   ]
  },
  {
   "cell_type": "code",
   "execution_count": 6,
   "metadata": {
    "collapsed": false
   },
   "outputs": [
    {
     "name": "stderr",
     "output_type": "stream",
     "text": [
      "/usr/local/lib/python2.7/site-packages/IPython/core/formatters.py:92: DeprecationWarning: DisplayFormatter._ipython_display_formatter_default is deprecated: use @default decorator instead.\n",
      "  def _ipython_display_formatter_default(self):\n",
      "/usr/local/lib/python2.7/site-packages/IPython/core/formatters.py:98: DeprecationWarning: DisplayFormatter._formatters_default is deprecated: use @default decorator instead.\n",
      "  def _formatters_default(self):\n",
      "/usr/local/lib/python2.7/site-packages/IPython/core/formatters.py:677: DeprecationWarning: PlainTextFormatter._deferred_printers_default is deprecated: use @default decorator instead.\n",
      "  def _deferred_printers_default(self):\n",
      "/usr/local/lib/python2.7/site-packages/IPython/core/formatters.py:669: DeprecationWarning: PlainTextFormatter._singleton_printers_default is deprecated: use @default decorator instead.\n",
      "  def _singleton_printers_default(self):\n",
      "/usr/local/lib/python2.7/site-packages/IPython/core/formatters.py:672: DeprecationWarning: PlainTextFormatter._type_printers_default is deprecated: use @default decorator instead.\n",
      "  def _type_printers_default(self):\n"
     ]
    },
    {
     "data": {
      "text/plain": [
       "{'annotation',\n",
       " 'area',\n",
       " 'begin-area',\n",
       " 'country',\n",
       " 'disambiguation',\n",
       " 'end-area',\n",
       " 'gender',\n",
       " 'id',\n",
       " 'ipi',\n",
       " 'ipi-list',\n",
       " 'isni-list',\n",
       " 'life-span',\n",
       " 'name',\n",
       " 'sort-name',\n",
       " 'tag-list',\n",
       " 'type'}"
      ]
     },
     "execution_count": 6,
     "metadata": {},
     "output_type": "execute_result"
    }
   ],
   "source": [
    "set(keys)"
   ]
  },
  {
   "cell_type": "code",
   "execution_count": 20,
   "metadata": {
    "collapsed": false
   },
   "outputs": [],
   "source": [
    "matrix = dict()\n",
    "\n",
    "matrix['tags']  = tags\n",
    "matrix['area'] = area\n",
    "matrix['country'] = country\n",
    "matrix['keys'] = keys\n",
    "matrix['types'] = types\n",
    "matrix['begin_areas'] = begin_areas\n",
    "matrix['end_areas'] = end_areas\n",
    "matrix['gender'] = gender\n"
   ]
  },
  {
   "cell_type": "code",
   "execution_count": 18,
   "metadata": {
    "collapsed": false
   },
   "outputs": [
    {
     "data": {
      "text/plain": [
       "['Group', 'Person', 'Other', 'Orchestra', 'Character']"
      ]
     },
     "execution_count": 18,
     "metadata": {},
     "output_type": "execute_result"
    }
   ],
   "source": [
    "matrix['types']"
   ]
  },
  {
   "cell_type": "code",
   "execution_count": 21,
   "metadata": {
    "collapsed": false
   },
   "outputs": [],
   "source": [
    "artist_matrix = dict()\n",
    "\n",
    "for k,v in artist_info.iteritems():\n",
    "    row = []\n",
    "    #print v['country']\n",
    "    tmp = []\n",
    "    try:\n",
    "        for i in matrix['gender']:\n",
    "            tmp += [(v['gender']==i)*1]\n",
    "    except:\n",
    "        tmp = [0] * len(matrix['gender'])\n",
    "    \n",
    "    row += tmp\n",
    "    \n",
    "    tmp = []\n",
    "    try:\n",
    "        for i in matrix['types']:\n",
    "            tmp += [(v['type']==i)*1]\n",
    "    except:\n",
    "        tmp = [0] * len(matrix['types'])   \n",
    "    \n",
    "    row += tmp\n",
    "    \n",
    "#     tmp = []\n",
    "#     try:\n",
    "#         for i in matrix['end_areas']:\n",
    "#             tmp += [(v['end-area']['name']==i)*1]\n",
    "#     except:\n",
    "#         tmp = [0] * len(matrix['end_areas'])\n",
    "    \n",
    "#     tmp =[]\n",
    "#     try:\n",
    "#         for i in matrix['begin_areas']:\n",
    "#             tmp += [(v['begin-area']['name']==i)*1]\n",
    "#     except:\n",
    "#         tmp = [0] * len(matrix['begin_areas'])\n",
    "    \n",
    "#     row += tmp\n",
    "\n",
    "#     tmp =[]\n",
    "#     try:\n",
    "#         for i in matrix['area']:\n",
    "#             tmp += [(v['area']['name']==i)*1]\n",
    "#     except:\n",
    "#         tmp = [0] * len(matrix['area'])\n",
    "    \n",
    "#     row += tmp\n",
    "\n",
    "    tmp =[]\n",
    "    try:\n",
    "        for i in matrix['country']:\n",
    "            tmp += [(v['country']==i)*1]\n",
    "    except:\n",
    "        tmp = [0] * len(matrix['country'])\n",
    "    \n",
    "    row += tmp\n",
    "    \n",
    "    tmp = []\n",
    "    if 'tag-list' in v.keys():\n",
    "        t = []\n",
    "        for i in v['tag-list']:\n",
    "            t.append(i['name'])\n",
    "        for i in matrix['tags']:\n",
    "            tmp += [(i in t)*1]\n",
    "    else:\n",
    "        tmp = [0] * len(matrix['tags'])\n",
    "    row += tmp\n",
    "                \n",
    "    tmp = []\n",
    "    try:\n",
    "        tmp += [int(v['life-span']['begin'][:4])]\n",
    "    except:\n",
    "        tmp += [2016]\n",
    "#     try:\n",
    "#         tmp += [int(v['life-span']['end'][:4])]\n",
    "#     except:\n",
    "#         tmp += [2016]\n",
    "    try:\n",
    "        tmp += [('ended' in v['life-span'].keys())*1]\n",
    "    except:\n",
    "        tmp += [0]\n",
    "    \n",
    "    row += tmp\n",
    "    \n",
    "    artist_matrix[k] = row"
   ]
  },
  {
   "cell_type": "code",
   "execution_count": 23,
   "metadata": {
    "collapsed": false
   },
   "outputs": [
    {
     "data": {
      "text/plain": [
       "320"
      ]
     },
     "execution_count": 23,
     "metadata": {},
     "output_type": "execute_result"
    }
   ],
   "source": [
    "len(row)"
   ]
  },
  {
   "cell_type": "code",
   "execution_count": 22,
   "metadata": {
    "collapsed": false
   },
   "outputs": [],
   "source": [
    "np.save('artist_matrix2',artist_matrix)"
   ]
  },
  {
   "cell_type": "code",
   "execution_count": 52,
   "metadata": {
    "collapsed": true
   },
   "outputs": [],
   "source": [
    "users = pd.read_csv('profiles.csv')"
   ]
  },
  {
   "cell_type": "code",
   "execution_count": 57,
   "metadata": {
    "collapsed": false
   },
   "outputs": [],
   "source": [
    "ucountries = list()\n",
    "\n",
    "for i in users.itertuples():\n",
    "    c = i[4]\n",
    "    if c not in ucountries:\n",
    "        ucountries.append(c)\n"
   ]
  },
  {
   "cell_type": "code",
   "execution_count": 60,
   "metadata": {
    "collapsed": false
   },
   "outputs": [
    {
     "data": {
      "text/plain": [
       "239"
      ]
     },
     "execution_count": 60,
     "metadata": {},
     "output_type": "execute_result"
    }
   ],
   "source": [
    "len(ucountries)"
   ]
  },
  {
   "cell_type": "code",
   "execution_count": 62,
   "metadata": {
    "collapsed": false
   },
   "outputs": [],
   "source": [
    "user_matrix = dict()\n",
    "\n",
    "for i in users.itertuples():\n",
    "    row = []\n",
    "    \n",
    "    id = i[1]\n",
    "    g = (i[2] == 'm') * 1\n",
    "    a = i[3]\n",
    "    c = i[4]\n",
    "    \n",
    "    row += [g]\n",
    "    row += [a]\n",
    "    \n",
    "    tmp =[]\n",
    "    try:\n",
    "        for i in ucountries:\n",
    "            tmp += [(c==i)*1]\n",
    "    except:\n",
    "        tmp = [0] * len(ucountries)\n",
    "    \n",
    "    row += tmp\n",
    "    \n",
    "    user_matrix[id]= row\n",
    "    \n"
   ]
  },
  {
   "cell_type": "code",
   "execution_count": 65,
   "metadata": {
    "collapsed": false
   },
   "outputs": [],
   "source": [
    "np.save('user_matrix',user_matrix)"
   ]
  },
  {
   "cell_type": "code",
   "execution_count": 66,
   "metadata": {
    "collapsed": true
   },
   "outputs": [],
   "source": [
    "data = pd.read_csv('train.csv')"
   ]
  },
  {
   "cell_type": "code",
   "execution_count": null,
   "metadata": {
    "collapsed": false,
    "scrolled": true
   },
   "outputs": [
    {
     "name": "stdout",
     "output_type": "stream",
     "text": [
      "FFF\n",
      "FFF\n",
      "FFF\n",
      "FFF\n",
      "FFF\n",
      "FFF\n",
      "FFF\n",
      "FFF\n",
      "FFF\n",
      "FFF\n",
      "FFF\n",
      "FFF\n",
      "FFF\n",
      "FFF\n",
      "FFF\n",
      "FFF\n",
      "FFF\n",
      "FFF\n",
      "FFF\n",
      "FFF\n",
      "FFF\n",
      "FFF\n",
      "FFF\n",
      "FFF\n",
      "FFF\n",
      "FFF\n",
      "FFF\n",
      "FFF\n",
      "FFF\n",
      "FFF\n",
      "FFF\n",
      "FFF\n",
      "FFF\n",
      "FFF\n",
      "FFF\n",
      "FFF\n",
      "FFF\n",
      "FFF\n",
      "FFF\n",
      "FFF\n",
      "FFF\n",
      "FFF\n",
      "FFF\n",
      "FFF\n",
      "FFF\n",
      "FFF\n",
      "FFF\n",
      "FFF\n",
      "FFF\n",
      "FFF\n",
      "FFF\n",
      "FFF\n",
      "FFF\n",
      "FFF\n",
      "FFF\n",
      "FFF\n",
      "FFF\n",
      "FFF\n",
      "FFF\n",
      "FFF\n",
      "FFF\n",
      "FFF\n",
      "FFF\n",
      "FFF\n",
      "FFF\n",
      "FFF"
     ]
    }
   ],
   "source": [
    "tdata = None\n",
    "\n",
    "for i in data.itertuples():\n",
    "    user = i[1]\n",
    "    artist = i[2]\n",
    "    nplay = i[3]\n",
    "    \n",
    "    try:\n",
    "        \n",
    "        row = user_matrix[user] + artist_matrix[artist] + [nplay]\n",
    "\n",
    "        if tdata == None:\n",
    "            tdata  = np.array(row)\n",
    "        else:\n",
    "            tdata = np.vstack((tdata,np.array(row)))\n",
    "    \n",
    "    except:\n",
    "        print \"FFF\""
   ]
  }
 ],
 "metadata": {
  "kernelspec": {
   "display_name": "Python 2",
   "language": "python",
   "name": "python2"
  },
  "language_info": {
   "codemirror_mode": {
    "name": "ipython",
    "version": 2
   },
   "file_extension": ".py",
   "mimetype": "text/x-python",
   "name": "python",
   "nbconvert_exporter": "python",
   "pygments_lexer": "ipython2",
   "version": "2.7.11"
  }
 },
 "nbformat": 4,
 "nbformat_minor": 0
}
